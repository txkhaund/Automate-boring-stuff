{
 "cells": [
  {
   "cell_type": "markdown",
   "metadata": {},
   "source": [
    "## Ch-1: PYTHON BASICS"
   ]
  },
  {
   "cell_type": "markdown",
   "metadata": {},
   "source": [
    "### Hello World! - First Python Program"
   ]
  },
  {
   "cell_type": "code",
   "execution_count": 1,
   "metadata": {},
   "outputs": [
    {
     "name": "stdout",
     "output_type": "stream",
     "text": [
      "Hello, World!\n"
     ]
    }
   ],
   "source": [
    "# This program says Hello and asks for my name and age\n",
    "\n",
    "print(\"Hello, World!\")"
   ]
  },
  {
   "cell_type": "code",
   "execution_count": 2,
   "metadata": {},
   "outputs": [
    {
     "name": "stdout",
     "output_type": "stream",
     "text": [
      "What is your name?\n",
      "Tuja\n",
      "It is good to meet you,Tuja\n"
     ]
    }
   ],
   "source": [
    "print(\"What is your name?\")  # ask for their name\n",
    "myName = input()\n",
    "print(\"It is good to meet you,\" + myName)"
   ]
  },
  {
   "cell_type": "code",
   "execution_count": 3,
   "metadata": {},
   "outputs": [
    {
     "name": "stdout",
     "output_type": "stream",
     "text": [
      "The length of your name is:\n",
      "4\n"
     ]
    }
   ],
   "source": [
    "print(\"The length of your name is:\")\n",
    "print(len(myName))"
   ]
  },
  {
   "cell_type": "code",
   "execution_count": 5,
   "metadata": {},
   "outputs": [
    {
     "name": "stdout",
     "output_type": "stream",
     "text": [
      "What is your age?\n",
      "26\n",
      "You will be 27 in a year.\n"
     ]
    }
   ],
   "source": [
    "print(\"What is your age?\")  # ask for their age\n",
    "myAge = input()\n",
    "print(\"You will be \"+ str(int(myAge) + 1) + \" in a year.\")"
   ]
  },
  {
   "cell_type": "markdown",
   "metadata": {},
   "source": [
    "### Practice Questions"
   ]
  },
  {
   "cell_type": "markdown",
   "metadata": {},
   "source": [
    "Which of the following are operators, and which are values?\n",
    "\n",
    "1) *\n",
    "\n",
    "2) 'hello'\n",
    "\n",
    "3) -88.8\n",
    "\n",
    "4) -\n",
    "\n",
    "5) /\n",
    "\n",
    "6) +\n",
    "\n",
    "7) 5"
   ]
  },
  {
   "cell_type": "markdown",
   "metadata": {},
   "source": [
    "Operators : 1, 4, 5, 6 ; Values: 2, 3, 7"
   ]
  },
  {
   "cell_type": "markdown",
   "metadata": {},
   "source": [
    "## Ch-2: FLOW CONTROL"
   ]
  },
  {
   "cell_type": "markdown",
   "metadata": {},
   "source": [
    "### A Short Program: Guess the number"
   ]
  },
  {
   "cell_type": "code",
   "execution_count": 4,
   "metadata": {},
   "outputs": [
    {
     "name": "stdout",
     "output_type": "stream",
     "text": [
      "I am thinking of a number between 1 and 20\n",
      "Take a guess.\n",
      "5\n",
      "Your guess is too low!\n",
      "Take a guess.\n",
      "10\n",
      "Your guess is too high!\n",
      "Take a guess.\n",
      "7\n",
      "Good Job! You guessed my number in 3 guess(es).\n"
     ]
    }
   ],
   "source": [
    "# This is a guess the number game\n",
    "import random\n",
    "\n",
    "secretNum = random.randint(1, 20)\n",
    "print(\"I am thinking of a number between 1 and 20\")\n",
    "\n",
    "# Give a player 5 chances to guess\n",
    "\n",
    "for chance in range(1,6):\n",
    "    print('Take a guess.')\n",
    "    guess = int(input())\n",
    "\n",
    "    if secretNum < guess:\n",
    "        print('Your guess is too high!')\n",
    "    elif secretNum > guess:\n",
    "        print('Your guess is too low!')\n",
    "    else:\n",
    "        break # This is the correct guess!\n",
    "    \n",
    "if secretNum == guess:\n",
    "    print('Good Job! You guessed my number in ' + str(chance) + ' guess(es).')\n",
    "else:\n",
    "    print('Nope! The number I thought was ' + str(secretNum))\n",
    "    "
   ]
  },
  {
   "cell_type": "markdown",
   "metadata": {},
   "source": [
    "### A Short Program: ROCK, PAPER, SCISSORS"
   ]
  },
  {
   "cell_type": "markdown",
   "metadata": {},
   "source": [
    "<strong>Concept-</strong>\n",
    "<br>ROCK, PAPER, SCISSORS\n",
    "<br>0 Wins, 0 Losses, 0 Ties\n",
    "<br>Enter your move: (r)ock (p)aper (s)cissors or (q)uit\n",
    "<br>**p**\n",
    "\n",
    "PAPER versus...\n",
    "<br>PAPER\n",
    "<br>It is a tie!\n",
    "<br>0 Wins, 1 Losses, 1 Ties\n",
    "<br>Enter your move: (r)ock (p)aper (s)cissors or (q)uit\n",
    "<br>**s**\n",
    "\n",
    "SCISSORS versus...\n",
    "<br>PAPER\n",
    "<br>You win!\n",
    "<br>1 Wins, 1 Losses, 1 Ties\n",
    "<br>Enter your move: (r)ock (p)aper (s)cissors or (q)uit\n",
    "<br>**q**"
   ]
  },
  {
   "cell_type": "code",
   "execution_count": 1,
   "metadata": {},
   "outputs": [
    {
     "name": "stdout",
     "output_type": "stream",
     "text": [
      "ROCK, PAPER, SCISSORS\n",
      "0 Wins, 0 Losses, 0 Ties\n",
      "Enter your move: (r)ock (p)aper (s)cissors or (q)uit\n",
      "r\n",
      "ROCK versus ...\n",
      "PAPER\n",
      "You lose!\n",
      "0 Wins, 1 Losses, 0 Ties\n",
      "Enter your move: (r)ock (p)aper (s)cissors or (q)uit\n",
      "r\n",
      "ROCK versus ...\n",
      "SCISSORS\n",
      "You win!\n",
      "1 Wins, 1 Losses, 0 Ties\n",
      "Enter your move: (r)ock (p)aper (s)cissors or (q)uit\n",
      "r\n",
      "ROCK versus ...\n",
      "SCISSORS\n",
      "You win!\n",
      "2 Wins, 1 Losses, 0 Ties\n",
      "Enter your move: (r)ock (p)aper (s)cissors or (q)uit\n",
      "p\n",
      "PAPER versus ...\n",
      "PAPER\n",
      "It is a tie!\n",
      "2 Wins, 1 Losses, 1 Ties\n",
      "Enter your move: (r)ock (p)aper (s)cissors or (q)uit\n",
      "q\n"
     ]
    },
    {
     "ename": "SystemExit",
     "evalue": "",
     "output_type": "error",
     "traceback": [
      "An exception has occurred, use %tb to see the full traceback.\n",
      "\u001b[1;31mSystemExit\u001b[0m\n"
     ]
    },
    {
     "name": "stderr",
     "output_type": "stream",
     "text": [
      "c:\\python35\\lib\\site-packages\\IPython\\core\\interactiveshell.py:3334: UserWarning: To exit: use 'exit', 'quit', or Ctrl-D.\n",
      "  warn(\"To exit: use 'exit', 'quit', or Ctrl-D.\", stacklevel=1)\n"
     ]
    }
   ],
   "source": [
    "import random, sys\n",
    "\n",
    "print('ROCK, PAPER, SCISSORS')\n",
    "\n",
    "# These variables will keep track of wins, losses and ties\n",
    "wins = 0\n",
    "losses = 0\n",
    "ties = 0\n",
    "\n",
    "while True: # the main game loop\n",
    "    print('%s Wins, %s Losses, %s Ties' %(wins, losses, ties))\n",
    "    while True: # the player input loop\n",
    "        print('Enter your move: (r)ock (p)aper (s)cissors or (q)uit')\n",
    "        playerMove = input()\n",
    "\n",
    "        if playerMove == 'q':\n",
    "            sys.exit() # Quit the program\n",
    "        if playerMove == 'r' or playerMove == 'p' or playerMove == 's':\n",
    "            break # break out of the player input loop\n",
    "        print('Type one of r, p, s or q.')\n",
    "    \n",
    "    # Display the player move\n",
    "    if playerMove == 'r':\n",
    "        print('ROCK versus ...')\n",
    "    elif playerMove == 'p':\n",
    "        print('PAPER versus ...')\n",
    "    elif playerMove == 's':\n",
    "        print('SCISSORS versus ...')\n",
    "        \n",
    "    # Display the computer's move\n",
    "    randomNum = random.randint(1,3)\n",
    "    \n",
    "    if randomNum == 1:\n",
    "        computerMove = 'r'\n",
    "        print('ROCK')\n",
    "    elif randomNum == 2:\n",
    "        computerMove = 'p'\n",
    "        print('PAPER')\n",
    "    elif randomNum == 3:\n",
    "        computerMove = 's'\n",
    "        print('SCISSORS')\n",
    "        \n",
    "    # Display and record the wins/loss/tie\n",
    "    if playerMove == computerMove:\n",
    "        print('It is a tie!')\n",
    "        ties += 1\n",
    "    elif (playerMove == 'r' and computerMove == 's') or (playerMove == 'p' and computerMove == 'r') or (playerMove == 's' and computerMove == 'p'):\n",
    "        print('You win!')\n",
    "        wins += 1\n",
    "    elif (playerMove == 'r' and computerMove == 'p') or (playerMove == 'p' and computerMove == 's') or (playerMove == 's' and computerMove == 'r'):\n",
    "        print('You lose!')\n",
    "        losses += 1"
   ]
  },
  {
   "cell_type": "markdown",
   "metadata": {},
   "source": [
    "## Ch-3: FUNCTIONS"
   ]
  },
  {
   "cell_type": "markdown",
   "metadata": {},
   "source": [
    "### Define, Call, Pass, Argument, Parameter\n",
    "\n",
    "➊ def sayHello(name):\n",
    "<br>       print('Hello, ' + name)\n",
    "<br>➋ sayHello('Al')\n",
    "\n",
    "To _define_ a function is to create it, just like an assignment statement like spam = 42 creates the spam variable. The def statement defines the sayHello() function ➊. The sayHello('Al') line ➋ _calls_ the now-created function, sending the execution to the top of the function’s code. This function call is also known as _passing_ the string value 'Al' to the function. A value being passed to a function in a function call is an _argument_. The argument 'Al' is assigned to a local variable named name. Variables that have arguments assigned to them are _parameters_."
   ]
  },
  {
   "cell_type": "markdown",
   "metadata": {},
   "source": [
    "### Return Values and return Statements\n",
    "\n",
    "When you call the len() function and pass it an argument such as 'Hello', the function call evaluates to the integer value 5, which is the length of the string you passed it. In general, the value that a function call evaluates to is called the _return value_ of the function.\n",
    "\n",
    "A return statement consists of the following:\n",
    "\n",
    "* The return keyword\n",
    "* The value or expression that the function should return"
   ]
  },
  {
   "cell_type": "markdown",
   "metadata": {},
   "source": [
    "### Example: Magic 8 Ball"
   ]
  },
  {
   "cell_type": "code",
   "execution_count": 7,
   "metadata": {},
   "outputs": [
    {
     "name": "stdout",
     "output_type": "stream",
     "text": [
      "Reply hazy try again\n"
     ]
    }
   ],
   "source": [
    "import random\n",
    "\n",
    "def magic8(num):\n",
    "    if num == 1:\n",
    "        return 'It is certain'\n",
    "    elif num == 2:\n",
    "        return 'It is decidedly so'\n",
    "    elif num == 3:\n",
    "        return 'Yes'\n",
    "    elif num == 4:\n",
    "        return 'Reply hazy try again'\n",
    "    elif num == 5:\n",
    "        return 'Ask again later'\n",
    "    elif num == 6:\n",
    "        return 'Concentrate and ask again'\n",
    "    elif num == 7:\n",
    "        return 'My reply is no'\n",
    "    elif num == 8:\n",
    "        return 'Outlook not so good'\n",
    "    elif num == 9:\n",
    "        return 'Very doubtful'\n",
    "\n",
    "print(magic8(random.randint(1,9)))"
   ]
  },
  {
   "cell_type": "code",
   "execution_count": null,
   "metadata": {},
   "outputs": [],
   "source": []
  },
  {
   "cell_type": "code",
   "execution_count": null,
   "metadata": {},
   "outputs": [],
   "source": []
  },
  {
   "cell_type": "code",
   "execution_count": null,
   "metadata": {},
   "outputs": [],
   "source": []
  },
  {
   "cell_type": "code",
   "execution_count": null,
   "metadata": {},
   "outputs": [],
   "source": []
  },
  {
   "cell_type": "code",
   "execution_count": null,
   "metadata": {},
   "outputs": [],
   "source": []
  }
 ],
 "metadata": {
  "kernelspec": {
   "display_name": "Python 3",
   "language": "python",
   "name": "python3"
  },
  "language_info": {
   "codemirror_mode": {
    "name": "ipython",
    "version": 3
   },
   "file_extension": ".py",
   "mimetype": "text/x-python",
   "name": "python",
   "nbconvert_exporter": "python",
   "pygments_lexer": "ipython3",
   "version": "3.5.2"
  }
 },
 "nbformat": 4,
 "nbformat_minor": 2
}
